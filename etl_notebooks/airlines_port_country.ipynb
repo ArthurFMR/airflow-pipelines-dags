{
 "cells": [
  {
   "cell_type": "markdown",
   "metadata": {},
   "source": [
    "# ETL International airlines data\n",
    "With this ETL Process we all going to get data about airlines data from International Airlines - Airline by country of port data. This data contains airlines names, number of passanger for each year from 1985, ports country of each airlines, number of passengers in, number of passengers out, etc.\n"
   ]
  },
  {
   "cell_type": "markdown",
   "metadata": {},
   "source": [
    "# Extract (E) Step\n",
    "In this step we are going to gather the dara from a csv file. This file we are going to get it from this url https://data.gov.au/data/dataset/ad89b4ff-541a-4729-b93c-4d2f5682e4c8/resource/809c77d8-fd68-4a2c-806f-c63d64e69842/download/airline_portcountry.csv"
   ]
  },
  {
   "cell_type": "code",
   "execution_count": 9,
   "metadata": {},
   "outputs": [],
   "source": [
    "import pandas as pd\n",
    "from sqlalchemy import create_engine\n",
    "from dotenv import load_dotenv\n",
    "import os"
   ]
  },
  {
   "cell_type": "code",
   "execution_count": 10,
   "metadata": {},
   "outputs": [],
   "source": [
    "URL = \"https://data.gov.au/data/dataset/ad89b4ff-541a-4729-b93c-4d2f5682e4c8/resource/809c77d8-fd68-4a2c-806f-c63d64e69842/download/airline_portcountry.csv\"\n",
    "\n",
    "# Limit quantity of records because free heroku tier allows 10,000.\n",
    "# and left free space for anothers datasets examples\n",
    "dataframe = pd.read_csv(URL, nrows=5000)"
   ]
  },
  {
   "cell_type": "code",
   "execution_count": 11,
   "metadata": {},
   "outputs": [
    {
     "data": {
      "text/html": [
       "<div>\n",
       "<style scoped>\n",
       "    .dataframe tbody tr th:only-of-type {\n",
       "        vertical-align: middle;\n",
       "    }\n",
       "\n",
       "    .dataframe tbody tr th {\n",
       "        vertical-align: top;\n",
       "    }\n",
       "\n",
       "    .dataframe thead th {\n",
       "        text-align: right;\n",
       "    }\n",
       "</style>\n",
       "<table border=\"1\" class=\"dataframe\">\n",
       "  <thead>\n",
       "    <tr style=\"text-align: right;\">\n",
       "      <th></th>\n",
       "      <th>Month</th>\n",
       "      <th>Airline</th>\n",
       "      <th>Port_Country</th>\n",
       "      <th>Passengers_In</th>\n",
       "      <th>Freight_In_(tonnes)</th>\n",
       "      <th>Mail_In_(tonnes)</th>\n",
       "      <th>Passengers_Out</th>\n",
       "      <th>Freight_Out_(tonnes)</th>\n",
       "      <th>Mail_Out_(tonnes)</th>\n",
       "      <th>Year</th>\n",
       "      <th>Month_num</th>\n",
       "    </tr>\n",
       "  </thead>\n",
       "  <tbody>\n",
       "    <tr>\n",
       "      <th>0</th>\n",
       "      <td>Jan-85</td>\n",
       "      <td>Air Caledonie</td>\n",
       "      <td>New Caledonia</td>\n",
       "      <td>725</td>\n",
       "      <td>0.368</td>\n",
       "      <td>0.0</td>\n",
       "      <td>474</td>\n",
       "      <td>0.167</td>\n",
       "      <td>0.0</td>\n",
       "      <td>1985</td>\n",
       "      <td>1</td>\n",
       "    </tr>\n",
       "    <tr>\n",
       "      <th>1</th>\n",
       "      <td>Jan-85</td>\n",
       "      <td>Air China</td>\n",
       "      <td>China</td>\n",
       "      <td>1311</td>\n",
       "      <td>9.158</td>\n",
       "      <td>0.0</td>\n",
       "      <td>1232</td>\n",
       "      <td>2.587</td>\n",
       "      <td>0.0</td>\n",
       "      <td>1985</td>\n",
       "      <td>1</td>\n",
       "    </tr>\n",
       "    <tr>\n",
       "      <th>2</th>\n",
       "      <td>Jan-85</td>\n",
       "      <td>Air India</td>\n",
       "      <td>India</td>\n",
       "      <td>1423</td>\n",
       "      <td>44.823</td>\n",
       "      <td>0.0</td>\n",
       "      <td>970</td>\n",
       "      <td>6.708</td>\n",
       "      <td>0.0</td>\n",
       "      <td>1985</td>\n",
       "      <td>1</td>\n",
       "    </tr>\n",
       "    <tr>\n",
       "      <th>3</th>\n",
       "      <td>Jan-85</td>\n",
       "      <td>Air India</td>\n",
       "      <td>Singapore</td>\n",
       "      <td>501</td>\n",
       "      <td>10.583</td>\n",
       "      <td>0.0</td>\n",
       "      <td>306</td>\n",
       "      <td>124.966</td>\n",
       "      <td>0.0</td>\n",
       "      <td>1985</td>\n",
       "      <td>1</td>\n",
       "    </tr>\n",
       "    <tr>\n",
       "      <th>4</th>\n",
       "      <td>Jan-85</td>\n",
       "      <td>Air Nauru</td>\n",
       "      <td>Nauru</td>\n",
       "      <td>161</td>\n",
       "      <td>0.212</td>\n",
       "      <td>0.0</td>\n",
       "      <td>96</td>\n",
       "      <td>23.996</td>\n",
       "      <td>0.0</td>\n",
       "      <td>1985</td>\n",
       "      <td>1</td>\n",
       "    </tr>\n",
       "  </tbody>\n",
       "</table>\n",
       "</div>"
      ],
      "text/plain": [
       "    Month        Airline   Port_Country  Passengers_In  Freight_In_(tonnes)  \\\n",
       "0  Jan-85  Air Caledonie  New Caledonia            725                0.368   \n",
       "1  Jan-85      Air China          China           1311                9.158   \n",
       "2  Jan-85      Air India          India           1423               44.823   \n",
       "3  Jan-85      Air India      Singapore            501               10.583   \n",
       "4  Jan-85      Air Nauru          Nauru            161                0.212   \n",
       "\n",
       "   Mail_In_(tonnes)  Passengers_Out  Freight_Out_(tonnes)  Mail_Out_(tonnes)  \\\n",
       "0               0.0             474                 0.167                0.0   \n",
       "1               0.0            1232                 2.587                0.0   \n",
       "2               0.0             970                 6.708                0.0   \n",
       "3               0.0             306               124.966                0.0   \n",
       "4               0.0              96                23.996                0.0   \n",
       "\n",
       "   Year  Month_num  \n",
       "0  1985          1  \n",
       "1  1985          1  \n",
       "2  1985          1  \n",
       "3  1985          1  \n",
       "4  1985          1  "
      ]
     },
     "execution_count": 11,
     "metadata": {},
     "output_type": "execute_result"
    }
   ],
   "source": [
    "dataframe.head()"
   ]
  },
  {
   "cell_type": "markdown",
   "metadata": {},
   "source": [
    "# Transform (T) Step\n",
    "In this step we are going to remove some columns that we do not need for this ETL Process or analysis. Also we are going to make the columns names lowercases"
   ]
  },
  {
   "cell_type": "code",
   "execution_count": 12,
   "metadata": {},
   "outputs": [],
   "source": [
    "columns_to_remove = ['Month', 'Freight_In_(tonnes)', 'Mail_In_(tonnes)', 'Freight_Out_(tonnes)',\n",
    "'Mail_Out_(tonnes)']\n",
    "\n",
    "transformed_df = dataframe.drop(columns_to_remove, axis=1)\n",
    "transformed_df.columns = map(str.lower, transformed_df.columns)"
   ]
  },
  {
   "cell_type": "code",
   "execution_count": 13,
   "metadata": {},
   "outputs": [
    {
     "data": {
      "text/html": [
       "<div>\n",
       "<style scoped>\n",
       "    .dataframe tbody tr th:only-of-type {\n",
       "        vertical-align: middle;\n",
       "    }\n",
       "\n",
       "    .dataframe tbody tr th {\n",
       "        vertical-align: top;\n",
       "    }\n",
       "\n",
       "    .dataframe thead th {\n",
       "        text-align: right;\n",
       "    }\n",
       "</style>\n",
       "<table border=\"1\" class=\"dataframe\">\n",
       "  <thead>\n",
       "    <tr style=\"text-align: right;\">\n",
       "      <th></th>\n",
       "      <th>airline</th>\n",
       "      <th>port_country</th>\n",
       "      <th>passengers_in</th>\n",
       "      <th>passengers_out</th>\n",
       "      <th>year</th>\n",
       "      <th>month_num</th>\n",
       "    </tr>\n",
       "  </thead>\n",
       "  <tbody>\n",
       "    <tr>\n",
       "      <th>0</th>\n",
       "      <td>Air Caledonie</td>\n",
       "      <td>New Caledonia</td>\n",
       "      <td>725</td>\n",
       "      <td>474</td>\n",
       "      <td>1985</td>\n",
       "      <td>1</td>\n",
       "    </tr>\n",
       "    <tr>\n",
       "      <th>1</th>\n",
       "      <td>Air China</td>\n",
       "      <td>China</td>\n",
       "      <td>1311</td>\n",
       "      <td>1232</td>\n",
       "      <td>1985</td>\n",
       "      <td>1</td>\n",
       "    </tr>\n",
       "    <tr>\n",
       "      <th>2</th>\n",
       "      <td>Air India</td>\n",
       "      <td>India</td>\n",
       "      <td>1423</td>\n",
       "      <td>970</td>\n",
       "      <td>1985</td>\n",
       "      <td>1</td>\n",
       "    </tr>\n",
       "    <tr>\n",
       "      <th>3</th>\n",
       "      <td>Air India</td>\n",
       "      <td>Singapore</td>\n",
       "      <td>501</td>\n",
       "      <td>306</td>\n",
       "      <td>1985</td>\n",
       "      <td>1</td>\n",
       "    </tr>\n",
       "    <tr>\n",
       "      <th>4</th>\n",
       "      <td>Air Nauru</td>\n",
       "      <td>Nauru</td>\n",
       "      <td>161</td>\n",
       "      <td>96</td>\n",
       "      <td>1985</td>\n",
       "      <td>1</td>\n",
       "    </tr>\n",
       "  </tbody>\n",
       "</table>\n",
       "</div>"
      ],
      "text/plain": [
       "         airline   port_country  passengers_in  passengers_out  year  \\\n",
       "0  Air Caledonie  New Caledonia            725             474  1985   \n",
       "1      Air China          China           1311            1232  1985   \n",
       "2      Air India          India           1423             970  1985   \n",
       "3      Air India      Singapore            501             306  1985   \n",
       "4      Air Nauru          Nauru            161              96  1985   \n",
       "\n",
       "   month_num  \n",
       "0          1  \n",
       "1          1  \n",
       "2          1  \n",
       "3          1  \n",
       "4          1  "
      ]
     },
     "execution_count": 13,
     "metadata": {},
     "output_type": "execute_result"
    }
   ],
   "source": [
    "transformed_df.head()"
   ]
  },
  {
   "cell_type": "markdown",
   "metadata": {},
   "source": [
    "# Load (L) Step\n",
    "In this step we are going to load the data to PostgreSQL hosted on heroku"
   ]
  },
  {
   "cell_type": "code",
   "execution_count": 14,
   "metadata": {},
   "outputs": [
    {
     "data": {
      "text/plain": [
       "True"
      ]
     },
     "execution_count": 14,
     "metadata": {},
     "output_type": "execute_result"
    }
   ],
   "source": [
    "# Load enviroment variables\n",
    "load_dotenv()"
   ]
  },
  {
   "cell_type": "code",
   "execution_count": 17,
   "metadata": {},
   "outputs": [],
   "source": [
    "DB_URL = os.environ.get('DATABASE_URL')\n",
    "engine = create_engine(DB_URL, echo=False)"
   ]
  },
  {
   "cell_type": "code",
   "execution_count": 18,
   "metadata": {},
   "outputs": [],
   "source": [
    "transformed_df.to_sql('airlines', con=engine, if_exists=\"replace\")"
   ]
  },
  {
   "cell_type": "markdown",
   "metadata": {},
   "source": [
    "# Litter Example of a Analysis\n",
    "We are going to look for the total of passangers that traveled using the airline \"Japan Airlines\" in 1985."
   ]
  },
  {
   "cell_type": "code",
   "execution_count": 29,
   "metadata": {},
   "outputs": [
    {
     "name": "stdout",
     "output_type": "stream",
     "text": [
      "In year 1985,  99,993  passengers used 'Japan Airlines'\n"
     ]
    }
   ],
   "source": [
    "sql = \"\"\"\n",
    "    SELECT passengers_in, passengers_out from airlines \n",
    "    WHERE airline ='Japan Airlines' AND year = 1985\n",
    "\"\"\"\n",
    "results = engine.execute(sql).fetchall()\n",
    "\n",
    "total_passengers = 0\n",
    "\n",
    "# Number of in and out are inside a tuple, it sum between them and then sum that total to the total of passenger in 1985\n",
    "for n_passengers in results:\n",
    "    total_passengers += sum(n_passengers)\n",
    "\n",
    "print(\"In year 1985, \", f'{total_passengers:,}', \" passengers used 'Japan Airlines'\")"
   ]
  }
 ],
 "metadata": {
  "interpreter": {
   "hash": "df71e190d7c24e7c839a0c4affcc352db52be118cf106aab1f73d5df6b2bc178"
  },
  "kernelspec": {
   "display_name": "Python 3.9.7 64-bit ('base': conda)",
   "language": "python",
   "name": "python3"
  },
  "language_info": {
   "codemirror_mode": {
    "name": "ipython",
    "version": 3
   },
   "file_extension": ".py",
   "mimetype": "text/x-python",
   "name": "python",
   "nbconvert_exporter": "python",
   "pygments_lexer": "ipython3",
   "version": "3.9.7"
  },
  "orig_nbformat": 4
 },
 "nbformat": 4,
 "nbformat_minor": 2
}
